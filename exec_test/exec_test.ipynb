{
 "cells": [
  {
   "cell_type": "code",
   "execution_count": 18,
   "metadata": {
    "collapsed": false
   },
   "outputs": [
    {
     "name": "stdout",
     "output_type": "stream",
     "text": [
      "x:100,y:300\n",
      "x:100,y:300,z:400\n",
      "z:400\n",
      "----------------------------------------------------------------------------------------------------\n",
      "x:30,y:10\n",
      "x:30,y:-10,z:20\n",
      "z:400,data_source:{'x': 30, 'y': -10, '__builtins__': {'__name__': 'builtins', '__doc__': \"Built-in functions, exceptions, and other objects.\\n\\nNoteworthy: None is the `nil' object; Ellipsis represents `...' in slices.\", '__package__': '', '__loader__': <class '_frozen_importlib.BuiltinImporter'>, '__spec__': ModuleSpec(name='builtins', loader=<class '_frozen_importlib.BuiltinImporter'>), '__build_class__': <built-in function __build_class__>, '__import__': <built-in function __import__>, 'abs': <built-in function abs>, 'all': <built-in function all>, 'any': <built-in function any>, 'ascii': <built-in function ascii>, 'bin': <built-in function bin>, 'breakpoint': <built-in function breakpoint>, 'callable': <built-in function callable>, 'chr': <built-in function chr>, 'compile': <built-in function compile>, 'delattr': <built-in function delattr>, 'dir': <built-in function dir>, 'divmod': <built-in function divmod>, 'eval': <built-in function eval>, 'exec': <built-in function exec>, 'format': <built-in function format>, 'getattr': <built-in function getattr>, 'globals': <built-in function globals>, 'hasattr': <built-in function hasattr>, 'hash': <built-in function hash>, 'hex': <built-in function hex>, 'id': <built-in function id>, 'input': <bound method Kernel.raw_input of <ipykernel.ipkernel.IPythonKernel object at 0x1034eeb20>>, 'isinstance': <built-in function isinstance>, 'issubclass': <built-in function issubclass>, 'iter': <built-in function iter>, 'len': <built-in function len>, 'locals': <built-in function locals>, 'max': <built-in function max>, 'min': <built-in function min>, 'next': <built-in function next>, 'oct': <built-in function oct>, 'ord': <built-in function ord>, 'pow': <built-in function pow>, 'print': <built-in function print>, 'repr': <built-in function repr>, 'round': <built-in function round>, 'setattr': <built-in function setattr>, 'sorted': <built-in function sorted>, 'sum': <built-in function sum>, 'vars': <built-in function vars>, 'None': None, 'Ellipsis': Ellipsis, 'NotImplemented': NotImplemented, 'False': False, 'True': True, 'bool': <class 'bool'>, 'memoryview': <class 'memoryview'>, 'bytearray': <class 'bytearray'>, 'bytes': <class 'bytes'>, 'classmethod': <class 'classmethod'>, 'complex': <class 'complex'>, 'dict': <class 'dict'>, 'enumerate': <class 'enumerate'>, 'filter': <class 'filter'>, 'float': <class 'float'>, 'frozenset': <class 'frozenset'>, 'property': <class 'property'>, 'int': <class 'int'>, 'list': <class 'list'>, 'map': <class 'map'>, 'object': <class 'object'>, 'range': <class 'range'>, 'reversed': <class 'reversed'>, 'set': <class 'set'>, 'slice': <class 'slice'>, 'staticmethod': <class 'staticmethod'>, 'str': <class 'str'>, 'super': <class 'super'>, 'tuple': <class 'tuple'>, 'type': <class 'type'>, 'zip': <class 'zip'>, '__debug__': True, 'BaseException': <class 'BaseException'>, 'Exception': <class 'Exception'>, 'TypeError': <class 'TypeError'>, 'StopAsyncIteration': <class 'StopAsyncIteration'>, 'StopIteration': <class 'StopIteration'>, 'GeneratorExit': <class 'GeneratorExit'>, 'SystemExit': <class 'SystemExit'>, 'KeyboardInterrupt': <class 'KeyboardInterrupt'>, 'ImportError': <class 'ImportError'>, 'ModuleNotFoundError': <class 'ModuleNotFoundError'>, 'OSError': <class 'OSError'>, 'EnvironmentError': <class 'OSError'>, 'IOError': <class 'OSError'>, 'EOFError': <class 'EOFError'>, 'RuntimeError': <class 'RuntimeError'>, 'RecursionError': <class 'RecursionError'>, 'NotImplementedError': <class 'NotImplementedError'>, 'NameError': <class 'NameError'>, 'UnboundLocalError': <class 'UnboundLocalError'>, 'AttributeError': <class 'AttributeError'>, 'SyntaxError': <class 'SyntaxError'>, 'IndentationError': <class 'IndentationError'>, 'TabError': <class 'TabError'>, 'LookupError': <class 'LookupError'>, 'IndexError': <class 'IndexError'>, 'KeyError': <class 'KeyError'>, 'ValueError': <class 'ValueError'>, 'UnicodeError': <class 'UnicodeError'>, 'UnicodeEncodeError': <class 'UnicodeEncodeError'>, 'UnicodeDecodeError': <class 'UnicodeDecodeError'>, 'UnicodeTranslateError': <class 'UnicodeTranslateError'>, 'AssertionError': <class 'AssertionError'>, 'ArithmeticError': <class 'ArithmeticError'>, 'FloatingPointError': <class 'FloatingPointError'>, 'OverflowError': <class 'OverflowError'>, 'ZeroDivisionError': <class 'ZeroDivisionError'>, 'SystemError': <class 'SystemError'>, 'ReferenceError': <class 'ReferenceError'>, 'MemoryError': <class 'MemoryError'>, 'BufferError': <class 'BufferError'>, 'Warning': <class 'Warning'>, 'UserWarning': <class 'UserWarning'>, 'DeprecationWarning': <class 'DeprecationWarning'>, 'PendingDeprecationWarning': <class 'PendingDeprecationWarning'>, 'SyntaxWarning': <class 'SyntaxWarning'>, 'RuntimeWarning': <class 'RuntimeWarning'>, 'FutureWarning': <class 'FutureWarning'>, 'ImportWarning': <class 'ImportWarning'>, 'UnicodeWarning': <class 'UnicodeWarning'>, 'BytesWarning': <class 'BytesWarning'>, 'ResourceWarning': <class 'ResourceWarning'>, 'ConnectionError': <class 'ConnectionError'>, 'BlockingIOError': <class 'BlockingIOError'>, 'BrokenPipeError': <class 'BrokenPipeError'>, 'ChildProcessError': <class 'ChildProcessError'>, 'ConnectionAbortedError': <class 'ConnectionAbortedError'>, 'ConnectionRefusedError': <class 'ConnectionRefusedError'>, 'ConnectionResetError': <class 'ConnectionResetError'>, 'FileExistsError': <class 'FileExistsError'>, 'FileNotFoundError': <class 'FileNotFoundError'>, 'IsADirectoryError': <class 'IsADirectoryError'>, 'NotADirectoryError': <class 'NotADirectoryError'>, 'InterruptedError': <class 'InterruptedError'>, 'PermissionError': <class 'PermissionError'>, 'ProcessLookupError': <class 'ProcessLookupError'>, 'TimeoutError': <class 'TimeoutError'>, 'open': <built-in function open>, 'copyright': Copyright (c) 2001-2021 Python Software Foundation.\n",
      "All Rights Reserved.\n",
      "\n",
      "Copyright (c) 2000 BeOpen.com.\n",
      "All Rights Reserved.\n",
      "\n",
      "Copyright (c) 1995-2001 Corporation for National Research Initiatives.\n",
      "All Rights Reserved.\n",
      "\n",
      "Copyright (c) 1991-1995 Stichting Mathematisch Centrum, Amsterdam.\n",
      "All Rights Reserved., 'credits':     Thanks to CWI, CNRI, BeOpen.com, Zope Corporation and a cast of thousands\n",
      "    for supporting Python development.  See www.python.org for more information., 'license': Type license() to see the full license text, 'help': Type help() for interactive help, or help(object) for help about object., 'execfile': <function execfile at 0x1030b8310>, 'runfile': <function runfile at 0x10316d8b0>, '__IPYTHON__': True, 'display': <function display at 0x1020a0940>, 'get_ipython': <bound method InteractiveShell.get_ipython of <ipykernel.zmqshell.ZMQInteractiveShell object at 0x10352c640>>}, 'z': 20}\n",
      "----------------------------------------------------------------------------------------------------\n",
      "x:2,y:9\n",
      "x:2,y:9,z:11\n",
      "z:11\n"
     ]
    }
   ],
   "source": [
    "code = \"\"\"\n",
    "print(f'x:{x},y:{y}')\n",
    "if x>y:\n",
    "    y=-y\n",
    "z = x+y\n",
    "print(f'x:{x},y:{y},z:{z}')\n",
    "\"\"\"\n",
    "x, y = 100, 300\n",
    "\n",
    "exec(code)\n",
    "print(f'z:{z}')\n",
    "\n",
    "print('-' * 100)\n",
    "data_source = {\n",
    "    'x': 30,\n",
    "    'y': 10\n",
    "}\n",
    "exec(code, data_source)\n",
    "print(f'z:{z},data_source:{data_source}')\n",
    "\n",
    "print('-' * 100)\n",
    "x, y = 2, 9\n",
    "exec(code)\n",
    "print(f'z:{z}')"
   ]
  },
  {
   "cell_type": "code",
   "execution_count": 2,
   "metadata": {
    "collapsed": false
   },
   "outputs": [
    {
     "name": "stdout",
     "output_type": "stream",
     "text": [
      "60\n",
      "33\n",
      "34\n"
     ]
    }
   ],
   "source": [
    "x = 10\n",
    "expr = \"\"\"\n",
    "z = 30\n",
    "sum = x + y + z\n",
    "print(sum)\n",
    "\"\"\"\n",
    "\n",
    "\n",
    "def func():\n",
    "    y = 20\n",
    "    exec(expr)\n",
    "    exec(expr, {'x': 1, 'y': 2})\n",
    "    exec(expr, {'x': 1, 'y': 2}, {'y': 3, 'z': 4})\n",
    "\n",
    "\n",
    "func()"
   ]
  },
  {
   "cell_type": "code",
   "execution_count": 27,
   "metadata": {
    "collapsed": false
   },
   "outputs": [
    {
     "name": "stdout",
     "output_type": "stream",
     "text": [
      "{'result': 40}\n",
      "{'num1': 12, 'num2': 14}\n"
     ]
    }
   ],
   "source": [
    "import execjs\n",
    "\n",
    "code = \"\"\"\n",
    "//norm.js\n",
    "//计算两个数的和\n",
    "function add(name_dict,reps_dict) {\n",
    "\n",
    "    function get_num2(num2) {\n",
    "        return num2*2;\n",
    "    }\n",
    "\n",
    "    result = name_dict['num1'] + get_num2(name_dict['num2']);\n",
    "    name_dict['result'] = result;\n",
    "    reps_dict['result'] = result;\n",
    "    return reps_dict;\n",
    "}\n",
    "\"\"\"\n",
    "\n",
    "# 编译加载js字符串\n",
    "context1 = execjs.compile(code)\n",
    "name_dict = {\n",
    "    'num1': 12,\n",
    "    'num2': 14\n",
    "}\n",
    "reps_dict={}\n",
    "result1 = context1.call(\"add\", name_dict,reps_dict)\n",
    "print(result1)\n",
    "print(name_dict)"
   ]
  },
  {
   "cell_type": "code",
   "execution_count": 1,
   "metadata": {
    "collapsed": false
   },
   "outputs": [
    {
     "ename": "NameError",
     "evalue": "name 'add' is not defined",
     "output_type": "error",
     "traceback": [
      "\u001B[0;31m---------------------------------------------------------------------------\u001B[0m",
      "\u001B[0;31mNameError\u001B[0m                                 Traceback (most recent call last)",
      "\u001B[1;32m/Users/boyizhang/PycharmProjects/python-learning/exec_test/exec_test.ipynb 单元格 4\u001B[0m line \u001B[0;36m1\n\u001B[1;32m     <a href='vscode-notebook-cell:/Users/boyizhang/PycharmProjects/python-learning/exec_test/exec_test.ipynb#W3sZmlsZQ%3D%3D?line=9'>10</a>\u001B[0m exec(code,{\u001B[39m\"\u001B[39m\u001B[39mtotal\u001B[39m\u001B[39m\"\u001B[39m:\u001B[39m1\u001B[39m})\n\u001B[1;32m     <a href='vscode-notebook-cell:/Users/boyizhang/PycharmProjects/python-learning/exec_test/exec_test.ipynb#W3sZmlsZQ%3D%3D?line=11'>12</a>\u001B[0m code2\u001B[39m=\u001B[39m\u001B[39m\"\u001B[39m\u001B[39mprint(add(5,6))\u001B[39m\u001B[39m\"\u001B[39m\n\u001B[0;32m---> <a href='vscode-notebook-cell:/Users/boyizhang/PycharmProjects/python-learning/exec_test/exec_test.ipynb#W3sZmlsZQ%3D%3D?line=12'>13</a>\u001B[0m exec(code2)\n",
      "File \u001B[0;32m<string>:1\u001B[0m\n",
      "\u001B[0;31mNameError\u001B[0m: name 'add' is not defined"
     ]
    }
   ],
   "source": [
    "code = \"\"\"\n",
    "total=0\n",
    "def add(a,b):\n",
    "    # global total\n",
    "    total=1\n",
    "    print(f\"a:{a},b:{b},total:{total}\")\n",
    "    return a+b\n",
    "\"\"\"\n",
    "\n",
    "exec(code,{\"total\":1})\n",
    "\n",
    "code2=\"print(add(5,6))\"\n",
    "exec(code2)\n",
    "\n"
   ]
  },
  {
   "cell_type": "code",
   "execution_count": 5,
   "metadata": {},
   "outputs": [
    {
     "name": "stdout",
     "output_type": "stream",
     "text": [
      "120\n"
     ]
    }
   ],
   "source": [
    "func = \"def fact(n):\\n\\treturn 1 if n==1 else n*fact(n-1)\"\n",
    "exec(func)\n",
    "a = fact(5)\n",
    "print(a)"
   ]
  },
  {
   "cell_type": "code",
   "execution_count": 29,
   "metadata": {
    "ExecuteTime": {
     "start_time": "2023-09-13T15:22:59.607838Z",
     "end_time": "2023-09-13T15:22:59.620637Z"
    }
   },
   "outputs": [
    {
     "name": "stdout",
     "output_type": "stream",
     "text": [
      "0000\n",
      "0000\n",
      "1\n",
      "['name', '__module__', '__init__', '__dict__', '__weakref__', '__doc__', '__repr__', '__hash__', '__str__', '__getattribute__', '__setattr__', '__delattr__', '__lt__', '__le__', '__eq__', '__ne__', '__gt__', '__ge__', '__new__', '__reduce_ex__', '__reduce__', '__subclasshook__', '__init_subclass__', '__format__', '__sizeof__', '__dir__', '__class__']\n",
      "hhhh\n",
      "hhhh\n",
      "----------------------------------------------------------------------------------------------------\n"
     ]
    }
   ],
   "source": [
    "print(\"0000\")\n",
    "class Person2():\n",
    "\n",
    "    def __init__(self, name, **kwargs):\n",
    "        self.name = name\n",
    "\n",
    "code_str=\"\"\"\n",
    "print(\"0000\")\n",
    "class Person():\n",
    "\n",
    "    def __init__(self, name, **kwargs):\n",
    "        self.name = name\n",
    "\n",
    "p = Person(name='boyi')\n",
    "total = 1\n",
    "def get_name():\n",
    "    print(total)\n",
    "    print(p.__dir__())\n",
    "    print(p.name)\n",
    "    p.name=\"hhhh\"\n",
    "    print(p.name)\n",
    "    print('-'*100)\n",
    "\"\"\"\n",
    "p1=Person2('boxy')\n",
    "global_dict={}\n",
    "global_dict['p1'] = p1\n",
    "exec(code_str,global_dict)\n",
    "# get_name()\n",
    "exec(\"get_name()\")\n",
    "# add2()\n",
    "\n",
    "# get_name2()\n",
    "# get_name()\n",
    "\n",
    "\n"
   ]
  },
  {
   "cell_type": "code",
   "execution_count": 17,
   "outputs": [],
   "source": [],
   "metadata": {
    "collapsed": false,
    "ExecuteTime": {
     "start_time": "2023-09-13T15:20:42.813568Z",
     "end_time": "2023-09-13T15:20:42.822702Z"
    }
   }
  },
  {
   "cell_type": "code",
   "execution_count": 17,
   "outputs": [],
   "source": [],
   "metadata": {
    "collapsed": false,
    "ExecuteTime": {
     "start_time": "2023-09-13T15:20:43.115814Z",
     "end_time": "2023-09-13T15:20:43.123477Z"
    }
   }
  },
  {
   "cell_type": "code",
   "execution_count": 17,
   "outputs": [],
   "source": [],
   "metadata": {
    "collapsed": false,
    "ExecuteTime": {
     "start_time": "2023-09-13T15:20:43.632861Z",
     "end_time": "2023-09-13T15:20:43.639730Z"
    }
   }
  },
  {
   "cell_type": "code",
   "execution_count": 17,
   "outputs": [],
   "source": [],
   "metadata": {
    "collapsed": false,
    "ExecuteTime": {
     "start_time": "2023-09-13T15:20:43.931985Z",
     "end_time": "2023-09-13T15:20:43.938418Z"
    }
   }
  },
  {
   "cell_type": "code",
   "execution_count": 17,
   "outputs": [],
   "source": [],
   "metadata": {
    "collapsed": false,
    "ExecuteTime": {
     "start_time": "2023-09-13T15:20:44.299231Z",
     "end_time": "2023-09-13T15:20:44.307919Z"
    }
   }
  },
  {
   "cell_type": "code",
   "execution_count": 18,
   "outputs": [
    {
     "name": "stdout",
     "output_type": "stream",
     "text": [
      "1\n",
      "hhhh\n",
      "hhhh\n",
      "----------------------------------------------------------------------------------------------------\n"
     ]
    }
   ],
   "source": [
    "class Person2():\n",
    "\n",
    "    def __init__(self, name, **kwargs):\n",
    "        self.name = name\n",
    "\n",
    "code_str=\"\"\"\n",
    "class Person():\n",
    "\n",
    "    def __init__(self, name, **kwargs):\n",
    "        self.name = name\n",
    "\n",
    "p = Person(name='boyi')\n",
    "total = 1\n",
    "def get_name():\n",
    "    print(total)\n",
    "    print(p.__dir__())\n",
    "    print(p.name)\n",
    "    p.name=\"hhhh\"\n",
    "    print(p.name)\n",
    "    print('-'*100)\n",
    "\"\"\"\n",
    "p1=Person2('boxy')\n",
    "global_dict={}\n",
    "global_dict['p'] = p1\n",
    "exec(code_str,global_dict)\n",
    "# get_name()\n",
    "exec(\"get_name()\")\n",
    "# add2()\n",
    "\n",
    "# get_name2()\n",
    "# get_name()"
   ],
   "metadata": {
    "collapsed": false,
    "ExecuteTime": {
     "start_time": "2023-09-13T15:20:51.280383Z",
     "end_time": "2023-09-13T15:20:51.288251Z"
    }
   }
  },
  {
   "cell_type": "code",
   "execution_count": 17,
   "outputs": [],
   "source": [],
   "metadata": {
    "collapsed": false,
    "ExecuteTime": {
     "start_time": "2023-09-13T15:20:45.390479Z",
     "end_time": "2023-09-13T15:20:45.403506Z"
    }
   }
  },
  {
   "cell_type": "code",
   "execution_count": null,
   "outputs": [],
   "source": [
    "class Person2():\n",
    "\n",
    "    def __init__(self, name, **kwargs):\n",
    "        self.name = name\n",
    "\n",
    "code_str=\"\"\"\n",
    "class Person():\n",
    "\n",
    "    def __init__(self, name, **kwargs):\n",
    "        self.name = name\n",
    "\n",
    "# p = Person(name='boyi')\n",
    "total = 1\n",
    "def get_name():\n",
    "    print(total)\n",
    "    print(p.__dir__())\n",
    "    print(p.name)\n",
    "    p.name=\"hhhh\"\n",
    "    print(p.name)\n",
    "    print('-'*100)\n",
    "\"\"\"\n",
    "p1=Person2('boxy')\n",
    "global_dict={}\n",
    "global_dict['p'] = p1\n",
    "exec(code_str,global_dict)\n",
    "# get_name()\n",
    "exec(\"get_name()\")\n",
    "# add2()\n",
    "\n",
    "# get_name2()\n",
    "# get_name()\n"
   ],
   "metadata": {
    "collapsed": false,
    "ExecuteTime": {
     "start_time": "2023-09-13T15:21:24.902069Z",
     "end_time": "2023-09-13T15:21:24.907212Z"
    },
    "pycharm": {
     "is_executing": true
    }
   }
  },
  {
   "cell_type": "code",
   "execution_count": null,
   "outputs": [],
   "source": [],
   "metadata": {
    "collapsed": false
   }
  }
 ],
 "metadata": {
  "kernelspec": {
   "display_name": "Python 3",
   "language": "python",
   "name": "python3"
  },
  "language_info": {
   "codemirror_mode": {
    "name": "ipython",
    "version": 3
   },
   "file_extension": ".py",
   "mimetype": "text/x-python",
   "name": "python",
   "nbconvert_exporter": "python",
   "pygments_lexer": "ipython3",
   "version": "3.8.13"
  }
 },
 "nbformat": 4,
 "nbformat_minor": 0
}

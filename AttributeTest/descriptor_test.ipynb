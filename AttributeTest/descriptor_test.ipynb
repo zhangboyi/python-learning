{
 "cells": [
  {
   "cell_type": "code",
   "execution_count": 47,
   "metadata": {},
   "outputs": [
    {
     "name": "stdout",
     "output_type": "stream",
     "text": [
      "5\n",
      "instance:<__main__.A object at 0x11fcc1be0>. owner: <class '__main__.A'>\n",
      "10\n"
     ]
    }
   ],
   "source": [
    "class Ten:\n",
    "    def __get__(self, instance, owner):\n",
    "        # self: Ten 的实例\n",
    "        # instance: A 的实例\n",
    "        # owner: class A\n",
    "        print(f'instance:{instance}. owner: {owner}')\n",
    "        return 10\n",
    "\n",
    "\n",
    "class A:\n",
    "    x = 5\n",
    "    # 要使用描述器，它必须作为一个类变量存储在另一个类中：\n",
    "    y = Ten()\n",
    "\n",
    "\n",
    "if __name__ == '__main__':\n",
    "    a = A()\n",
    "    print(a.x)\n",
    "    print(a.y)\n"
   ]
  },
  {
   "cell_type": "code",
   "execution_count": 56,
   "metadata": {},
   "outputs": [
    {
     "name": "stderr",
     "output_type": "stream",
     "text": [
      "INFO:root:Updating 'age' to 30\n",
      "INFO:root:Updating 'age' to 40\n",
      "INFO:root:Accessing 'age' giving 30\n",
      "INFO:root:Updating 'age' to 31\n",
      "INFO:root:Accessing 'age' giving 40\n"
     ]
    },
    {
     "name": "stdout",
     "output_type": "stream",
     "text": [
      "vars(mary):{'name': 'Mary M', '_age': 31}\n",
      "vars(dave):{'name': 'David D', '_age': 40}\n",
      "dave.name: David D\n",
      "dave.age:40\n"
     ]
    }
   ],
   "source": [
    "import logging\n",
    "\n",
    "logging.basicConfig(level=logging.INFO)\n",
    "\n",
    "\n",
    "class LoggingAgeAccess():\n",
    "    def __get__(self, instance, owner):\n",
    "        value = instance._age\n",
    "        logging.info('Accessing %r giving %r', 'age', value)\n",
    "        return value\n",
    "\n",
    "    def __set__(self, obj, value):\n",
    "        logging.info('Updating %r to %r', 'age', value)\n",
    "        obj._age = value\n",
    "\n",
    "\n",
    "class Person:\n",
    "    age = LoggingAgeAccess()\n",
    "\n",
    "    def __init__(self, name, age):\n",
    "        self.name = name\n",
    "        self.age = age\n",
    "\n",
    "    def birthday(self):\n",
    "        self.age += 1\n",
    "\n",
    "    def get_age(self):\n",
    "        print(Person.age)\n",
    "        print(self.age)\n",
    "\n",
    "\n",
    "if __name__ == '__main__':\n",
    "    mary = Person('Mary M', 30)\n",
    "    dave = Person('David D', 40)\n",
    "    mary.birthday()\n",
    "\n",
    "    print(f'vars(mary):{vars(mary)}')\n",
    "    print(f'vars(dave):{vars(dave)}')\n",
    "    print(f'dave.name: {dave.name}')\n",
    "    print(f'dave.age:{dave.age}')"
   ]
  },
  {
   "cell_type": "code",
   "execution_count": 160,
   "metadata": {},
   "outputs": [
    {
     "name": "stdout",
     "output_type": "stream",
     "text": [
      "owner:<class '__main__.Person'>. name:hobby\n",
      "owner:<class '__main__.Person'>. name:age\n"
     ]
    }
   ],
   "source": [
    "import logging\n",
    "\n",
    "logging.basicConfig(level=logging.INFO)\n",
    "\n",
    "\n",
    "class LoggedAccess:\n",
    "\n",
    "    def __set_name__(self, owner, name):\n",
    "        print(f'owner:{owner}. name:{name}')\n",
    "        self.public_name = name\n",
    "        self.private_name = '_' + name\n",
    "\n",
    "    def __get__(self, instance, owner=None):\n",
    "        value = getattr(instance, self.private_name)\n",
    "        logging.info('Accessing %r giving %r', self.public_name, value)\n",
    "        return value\n",
    "\n",
    "    def __set__(self, instance, value):\n",
    "        logging.info('Updating %r to %r', self.public_name, value)\n",
    "        setattr(instance, self.private_name, value)\n",
    "\n",
    "\n",
    "class Person:\n",
    "    hobby = LoggedAccess()  # First descriptor instance\n",
    "    age = LoggedAccess()  # Second descriptor instance\n",
    "\n",
    "    def __init__(self, hobby, age):\n",
    "        self.hobby = hobby  # Calls the first descriptor\n",
    "        self.age = age  # Calls the second descriptor\n",
    "\n",
    "    def birthday(self):\n",
    "        self.age += 1"
   ]
  },
  {
   "cell_type": "code",
   "execution_count": 161,
   "metadata": {},
   "outputs": [
    {
     "data": {
      "text/plain": [
       "{'public_name': 'hobby', 'private_name': '_hobby'}"
      ]
     },
     "execution_count": 161,
     "metadata": {},
     "output_type": "execute_result"
    }
   ],
   "source": [
    "vars(vars(Person)['hobby'])"
   ]
  },
  {
   "cell_type": "code",
   "execution_count": 162,
   "metadata": {},
   "outputs": [
    {
     "name": "stderr",
     "output_type": "stream",
     "text": [
      "INFO:root:Updating 'hobby' to 'play football'\n",
      "INFO:root:Updating 'age' to 40\n"
     ]
    }
   ],
   "source": [
    "boy = Person('play football', 40)"
   ]
  },
  {
   "cell_type": "code",
   "execution_count": 163,
   "metadata": {},
   "outputs": [
    {
     "data": {
      "text/plain": [
       "__main__.Person"
      ]
     },
     "execution_count": 163,
     "metadata": {},
     "output_type": "execute_result"
    }
   ],
   "source": [
    "cls_type = type(boy)\n",
    "cls_type"
   ]
  },
  {
   "cell_type": "code",
   "execution_count": 164,
   "metadata": {},
   "outputs": [
    {
     "data": {
      "text/plain": [
       "{'_hobby': 'play football', '_age': 40}"
      ]
     },
     "execution_count": 164,
     "metadata": {},
     "output_type": "execute_result"
    }
   ],
   "source": [
    "vars(boy)"
   ]
  },
  {
   "cell_type": "code",
   "execution_count": 165,
   "metadata": {},
   "outputs": [
    {
     "data": {
      "text/plain": [
       "<object at 0x124361120>"
      ]
     },
     "execution_count": 165,
     "metadata": {},
     "output_type": "execute_result"
    }
   ],
   "source": [
    "cls_var = getattr(cls_type, '_hobby', object())\n",
    "cls_var"
   ]
  },
  {
   "cell_type": "code",
   "execution_count": 166,
   "metadata": {},
   "outputs": [
    {
     "data": {
      "text/plain": [
       "<object at 0x1243610e0>"
      ]
     },
     "execution_count": 166,
     "metadata": {},
     "output_type": "execute_result"
    }
   ],
   "source": [
    "getattr(type(cls_var), '__get__', object())"
   ]
  },
  {
   "cell_type": "code",
   "execution_count": 167,
   "metadata": {},
   "outputs": [
    {
     "name": "stderr",
     "output_type": "stream",
     "text": [
      "INFO:root:Accessing 'hobby' giving 'play football'\n"
     ]
    },
    {
     "data": {
      "text/plain": [
       "'play football'"
      ]
     },
     "execution_count": 167,
     "metadata": {},
     "output_type": "execute_result"
    }
   ],
   "source": [
    "boy.hobby"
   ]
  },
  {
   "cell_type": "code",
   "execution_count": 168,
   "metadata": {},
   "outputs": [],
   "source": [
    "# Validate\n",
    "from abc import ABC, abstractmethod\n",
    "\n",
    "\n",
    "class Validator(ABC):\n",
    "    def __set_name__(self, owner, name):\n",
    "        self.private_name = '_' + name\n",
    "\n",
    "    def __get__(self, instance, owner):\n",
    "        return getattr(instance, self.private_name)\n",
    "\n",
    "    def __set__(self, instance, value):\n",
    "        self.validate(value)\n",
    "        setattr(instance, self.private_name, value)\n",
    "\n",
    "    @abstractmethod\n",
    "    def validate(self, value):\n",
    "        pass"
   ]
  },
  {
   "cell_type": "code",
   "execution_count": 169,
   "metadata": {},
   "outputs": [],
   "source": [
    "class Numbers(Validator):\n",
    "    def __init__(self, minvalue=None, maxvalue=None):\n",
    "        self.minvalue = minvalue\n",
    "        self.maxvalue = maxvalue\n",
    "\n",
    "    def validate(self, value):\n",
    "        if not isinstance(value, (int, float)):\n",
    "            raise TypeError(f'Expected {value!r} to be an int or float')\n",
    "        if self.minvalue and value < self.minvalue:\n",
    "            raise ValueError(f'Expected {value!r} to be at least {self.minvalue!r}')\n",
    "        if self.maxvalue and value > self.maxvalue:\n",
    "            raise ValueError(\n",
    "                f'Expected {value!r} to be no more than {self.maxvalue!r}'\n",
    "            )"
   ]
  },
  {
   "cell_type": "code",
   "execution_count": 170,
   "metadata": {},
   "outputs": [],
   "source": [
    "class NumbersTest():\n",
    "    length = Numbers(minvalue=18)\n",
    "\n",
    "    def __init__(self, name, length):\n",
    "        self.name = name\n",
    "        self.length = length"
   ]
  },
  {
   "cell_type": "code",
   "execution_count": 171,
   "metadata": {},
   "outputs": [
    {
     "data": {
      "text/plain": [
       "<__main__.NumbersTest at 0x123c31a60>"
      ]
     },
     "execution_count": 171,
     "metadata": {},
     "output_type": "execute_result"
    }
   ],
   "source": [
    "NumbersTest('boxy', 20)"
   ]
  },
  {
   "cell_type": "code",
   "execution_count": 172,
   "metadata": {},
   "outputs": [
    {
     "ename": "ValueError",
     "evalue": "Expected 0 to be at least 18",
     "output_type": "error",
     "traceback": [
      "\u001B[0;31m---------------------------------------------------------------------------\u001B[0m",
      "\u001B[0;31mValueError\u001B[0m                                Traceback (most recent call last)",
      "Input \u001B[0;32mIn [172]\u001B[0m, in \u001B[0;36m<cell line: 1>\u001B[0;34m()\u001B[0m\n\u001B[0;32m----> 1\u001B[0m \u001B[43mNumbersTest\u001B[49m\u001B[43m(\u001B[49m\u001B[38;5;124;43m'\u001B[39;49m\u001B[38;5;124;43mboxy\u001B[39;49m\u001B[38;5;124;43m'\u001B[39;49m\u001B[43m,\u001B[49m\u001B[43m \u001B[49m\u001B[38;5;241;43m0\u001B[39;49m\u001B[43m)\u001B[49m\n",
      "Input \u001B[0;32mIn [170]\u001B[0m, in \u001B[0;36mNumbersTest.__init__\u001B[0;34m(self, name, length)\u001B[0m\n\u001B[1;32m      4\u001B[0m \u001B[38;5;28;01mdef\u001B[39;00m \u001B[38;5;21m__init__\u001B[39m(\u001B[38;5;28mself\u001B[39m, name, length):\n\u001B[1;32m      5\u001B[0m     \u001B[38;5;28mself\u001B[39m\u001B[38;5;241m.\u001B[39mname \u001B[38;5;241m=\u001B[39m name\n\u001B[0;32m----> 6\u001B[0m     \u001B[38;5;28;43mself\u001B[39;49m\u001B[38;5;241;43m.\u001B[39;49m\u001B[43mlength\u001B[49m \u001B[38;5;241m=\u001B[39m length\n",
      "Input \u001B[0;32mIn [168]\u001B[0m, in \u001B[0;36mValidator.__set__\u001B[0;34m(self, instance, value)\u001B[0m\n\u001B[1;32m     12\u001B[0m \u001B[38;5;28;01mdef\u001B[39;00m \u001B[38;5;21m__set__\u001B[39m(\u001B[38;5;28mself\u001B[39m, instance, value):\n\u001B[0;32m---> 13\u001B[0m     \u001B[38;5;28;43mself\u001B[39;49m\u001B[38;5;241;43m.\u001B[39;49m\u001B[43mvalidate\u001B[49m\u001B[43m(\u001B[49m\u001B[43mvalue\u001B[49m\u001B[43m)\u001B[49m\n\u001B[1;32m     14\u001B[0m     \u001B[38;5;28msetattr\u001B[39m(instance, \u001B[38;5;28mself\u001B[39m\u001B[38;5;241m.\u001B[39mprivate_name, value)\n",
      "Input \u001B[0;32mIn [169]\u001B[0m, in \u001B[0;36mNumbers.validate\u001B[0;34m(self, value)\u001B[0m\n\u001B[1;32m      8\u001B[0m     \u001B[38;5;28;01mraise\u001B[39;00m \u001B[38;5;167;01mTypeError\u001B[39;00m(\u001B[38;5;124mf\u001B[39m\u001B[38;5;124m'\u001B[39m\u001B[38;5;124mExpected \u001B[39m\u001B[38;5;132;01m{\u001B[39;00mvalue\u001B[38;5;132;01m!r}\u001B[39;00m\u001B[38;5;124m to be an int or float\u001B[39m\u001B[38;5;124m'\u001B[39m)\n\u001B[1;32m      9\u001B[0m \u001B[38;5;28;01mif\u001B[39;00m \u001B[38;5;28mself\u001B[39m\u001B[38;5;241m.\u001B[39mminvalue \u001B[38;5;129;01mand\u001B[39;00m value \u001B[38;5;241m<\u001B[39m \u001B[38;5;28mself\u001B[39m\u001B[38;5;241m.\u001B[39mminvalue:\n\u001B[0;32m---> 10\u001B[0m     \u001B[38;5;28;01mraise\u001B[39;00m \u001B[38;5;167;01mValueError\u001B[39;00m(\u001B[38;5;124mf\u001B[39m\u001B[38;5;124m'\u001B[39m\u001B[38;5;124mExpected \u001B[39m\u001B[38;5;132;01m{\u001B[39;00mvalue\u001B[38;5;132;01m!r}\u001B[39;00m\u001B[38;5;124m to be at least \u001B[39m\u001B[38;5;132;01m{\u001B[39;00m\u001B[38;5;28mself\u001B[39m\u001B[38;5;241m.\u001B[39mminvalue\u001B[38;5;132;01m!r}\u001B[39;00m\u001B[38;5;124m'\u001B[39m)\n\u001B[1;32m     11\u001B[0m \u001B[38;5;28;01mif\u001B[39;00m \u001B[38;5;28mself\u001B[39m\u001B[38;5;241m.\u001B[39mmaxvalue \u001B[38;5;129;01mand\u001B[39;00m value \u001B[38;5;241m>\u001B[39m \u001B[38;5;28mself\u001B[39m\u001B[38;5;241m.\u001B[39mmaxvalue:\n\u001B[1;32m     12\u001B[0m     \u001B[38;5;28;01mraise\u001B[39;00m \u001B[38;5;167;01mValueError\u001B[39;00m(\n\u001B[1;32m     13\u001B[0m         \u001B[38;5;124mf\u001B[39m\u001B[38;5;124m'\u001B[39m\u001B[38;5;124mExpected \u001B[39m\u001B[38;5;132;01m{\u001B[39;00mvalue\u001B[38;5;132;01m!r}\u001B[39;00m\u001B[38;5;124m to be no more than \u001B[39m\u001B[38;5;132;01m{\u001B[39;00m\u001B[38;5;28mself\u001B[39m\u001B[38;5;241m.\u001B[39mmaxvalue\u001B[38;5;132;01m!r}\u001B[39;00m\u001B[38;5;124m'\u001B[39m\n\u001B[1;32m     14\u001B[0m     )\n",
      "\u001B[0;31mValueError\u001B[0m: Expected 0 to be at least 18"
     ]
    }
   ],
   "source": [
    "NumbersTest('boxy', 0)"
   ]
  },
  {
   "cell_type": "code",
   "execution_count": null,
   "metadata": {},
   "outputs": [],
   "source": [
    "NumbersTest('boxy', '0')"
   ]
  },
  {
   "cell_type": "code",
   "execution_count": null,
   "metadata": {},
   "outputs": [],
   "source": [
    "def object_getattribute(obj, name):\n",
    "    null = 0\n",
    "    # obj - 实例\n",
    "    cls_type = type(obj)\n",
    "    cls_var = getattr(cls_type, name, null)\n",
    "    descr_get = getattr(type(cls_var), '__get__', null)\n",
    "    print(f'cls_type:{cls_type},cls_var:{cls_var},descr_get:{descr_get}')\n",
    "    if descr_get is not null and (\n",
    "            hasattr(type(cls_var), '__set__') or hasattr(type(cls_var), '__delete__')\n",
    "    ):\n",
    "        print('数据描述器')\n",
    "        return descr_get(cls_var, obj, cls_type)\n",
    "    if hasattr(obj, '__dict__') and name in vars(obj):\n",
    "        print('实例变量')\n",
    "        return vars(obj)[name]\n",
    "    if descr_get is not null:\n",
    "        print('非数据描述器')\n",
    "        return descr_get(cls_var, obj, cls_type)\n",
    "    if cls_var is not null:\n",
    "        print('类变量')\n",
    "        return cls_var\n",
    "\n",
    "    raise AttributeError(name)\n",
    "\n",
    "\n"
   ]
  },
  {
   "cell_type": "code",
   "execution_count": null,
   "metadata": {},
   "outputs": [],
   "source": [
    "object_getattribute(boy, 'hobby')"
   ]
  },
  {
   "cell_type": "code",
   "execution_count": null,
   "metadata": {},
   "outputs": [],
   "source": [
    "class C(object):\n",
    "    def __init__(self):\n",
    "        self._x = None\n",
    "\n",
    "    @property\n",
    "    def x(self):\n",
    "        \"\"\"I'm the 'x' property.\"\"\"\n",
    "        print(\"I'm the 'x' property.\")\n",
    "        return self._x\n",
    "\n",
    "    @x.setter\n",
    "    def x(self, value):\n",
    "        print('set')\n",
    "        self._x = value\n",
    "\n",
    "    @x.deleter\n",
    "    def x(self):\n",
    "        print('del')\n",
    "        del self._x"
   ]
  },
  {
   "cell_type": "code",
   "execution_count": null,
   "metadata": {},
   "outputs": [],
   "source": [
    "\n",
    "class C(object):\n",
    "    def __init__(self):\n",
    "        self._x = None\n",
    "\n",
    "    def get_x(self):\n",
    "        \"\"\"I'm the 'x' property.\"\"\"\n",
    "        print(\"I'm the 'x' property.\")\n",
    "        return self._x\n",
    "\n",
    "    def set_x(self, value):\n",
    "        print('set')\n",
    "        self._x = value\n",
    "\n",
    "    def del_x(self):\n",
    "        print('del')\n",
    "        del self._x\n",
    "\n",
    "    x = property(get_x, set_x, del_x)"
   ]
  },
  {
   "cell_type": "code",
   "execution_count": null,
   "metadata": {},
   "outputs": [],
   "source": [
    "c = C()\n",
    "c.x = 123"
   ]
  },
  {
   "cell_type": "code",
   "execution_count": null,
   "metadata": {},
   "outputs": [],
   "source": [
    "class persion:\n",
    "    def __init__(self, name, age):\n",
    "        self.name = name\n",
    "        self.__age = age  #:age是一个私有属性\n",
    "\n",
    "    def tell(self):\n",
    "        print(\"我叫%s,我今年%s岁了\" % (self.name, self.__age))\n",
    "\n",
    "\n",
    "p = persion(\"杨洋\", 21)\n",
    "p.name = \"小明\"\n",
    "print(p.name)  #:可以查看和修改\n",
    "\n",
    "p.__age = 22  #:修改也不可以\n",
    "# print(p.__age)      #:外部想去查看私有属性是查看不了的"
   ]
  },
  {
   "cell_type": "code",
   "execution_count": null,
   "metadata": {},
   "outputs": [],
   "source": [
    "p.__age"
   ]
  },
  {
   "cell_type": "code",
   "execution_count": null,
   "metadata": {},
   "outputs": [],
   "source": [
    "p.__age = 90"
   ]
  },
  {
   "cell_type": "code",
   "execution_count": null,
   "metadata": {},
   "outputs": [],
   "source": [
    "p.__age"
   ]
  },
  {
   "cell_type": "code",
   "execution_count": 1,
   "metadata": {},
   "outputs": [],
   "source": [
    "class Animal(object):\n",
    "    def __init__(self, kind, name):\n",
    "        self.kind = kind\n",
    "        self._name = name\n",
    "\n",
    "    def __getattr__(self, item):\n",
    "        print(f'[__getattr__]items:{item}')\n",
    "\n",
    "        if item == 'name':\n",
    "            return self._name\n",
    "        raise AttributeError(item)\n",
    "\n",
    "    def __getattribute__(self, item):\n",
    "        # print(self.kind)\n",
    "        print(f'[__getattribute__]items:{item}')\n",
    "        return object.__getattribute__(self, item)"
   ]
  },
  {
   "cell_type": "code",
   "execution_count": 2,
   "metadata": {},
   "outputs": [],
   "source": [
    "dog1 = Animal('dog', '阿黄')"
   ]
  },
  {
   "cell_type": "code",
   "execution_count": 3,
   "metadata": {},
   "outputs": [
    {
     "name": "stdout",
     "output_type": "stream",
     "text": [
      "[__getattribute__]items:name\n",
      "[__getattr__]items:name\n",
      "[__getattribute__]items:_name\n"
     ]
    },
    {
     "data": {
      "text/plain": [
       "'阿黄'"
      ]
     },
     "execution_count": 3,
     "metadata": {},
     "output_type": "execute_result"
    }
   ],
   "source": [
    "dog1.name"
   ]
  },
  {
   "cell_type": "code",
   "execution_count": 4,
   "metadata": {},
   "outputs": [
    {
     "name": "stdout",
     "output_type": "stream",
     "text": [
      "[__getattribute__]items:no_exist_name\n",
      "[__getattr__]items:no_exist_name\n"
     ]
    },
    {
     "ename": "AttributeError",
     "evalue": "no_exist_name",
     "output_type": "error",
     "traceback": [
      "\u001B[0;31m---------------------------------------------------------------------------\u001B[0m",
      "\u001B[0;31mAttributeError\u001B[0m                            Traceback (most recent call last)",
      "Input \u001B[0;32mIn [4]\u001B[0m, in \u001B[0;36m<cell line: 1>\u001B[0;34m()\u001B[0m\n\u001B[0;32m----> 1\u001B[0m \u001B[43mdog1\u001B[49m\u001B[38;5;241;43m.\u001B[39;49m\u001B[43mno_exist_name\u001B[49m\n",
      "Input \u001B[0;32mIn [1]\u001B[0m, in \u001B[0;36mAnimal.__getattr__\u001B[0;34m(self, item)\u001B[0m\n\u001B[1;32m      9\u001B[0m \u001B[38;5;28;01mif\u001B[39;00m item \u001B[38;5;241m==\u001B[39m \u001B[38;5;124m'\u001B[39m\u001B[38;5;124mname\u001B[39m\u001B[38;5;124m'\u001B[39m:\n\u001B[1;32m     10\u001B[0m     \u001B[38;5;28;01mreturn\u001B[39;00m \u001B[38;5;28mself\u001B[39m\u001B[38;5;241m.\u001B[39m_name\n\u001B[0;32m---> 11\u001B[0m \u001B[38;5;28;01mraise\u001B[39;00m \u001B[38;5;167;01mAttributeError\u001B[39;00m(item)\n",
      "\u001B[0;31mAttributeError\u001B[0m: no_exist_name"
     ]
    }
   ],
   "source": [
    "dog1.no_exist_name\n"
   ]
  },
  {
   "cell_type": "code",
   "execution_count": 5,
   "metadata": {},
   "outputs": [
    {
     "name": "stdout",
     "output_type": "stream",
     "text": [
      "[__getattribute__]items:__dict__\n"
     ]
    },
    {
     "data": {
      "text/plain": [
       "{'kind': 'dog', '_name': '阿黄'}"
      ]
     },
     "execution_count": 5,
     "metadata": {},
     "output_type": "execute_result"
    }
   ],
   "source": [
    "vars(dog1)"
   ]
  },
  {
   "cell_type": "code",
   "execution_count": 6,
   "metadata": {},
   "outputs": [
    {
     "name": "stdout",
     "output_type": "stream",
     "text": [
      "[__getattribute__]items:kind\n"
     ]
    },
    {
     "data": {
      "text/plain": [
       "'dog'"
      ]
     },
     "execution_count": 6,
     "metadata": {},
     "output_type": "execute_result"
    }
   ],
   "source": [
    "dog1.kind"
   ]
  },
  {
   "cell_type": "code",
   "execution_count": 7,
   "metadata": {},
   "outputs": [],
   "source": [
    "# 属性管理技术的比较"
   ]
  },
  {
   "cell_type": "code",
   "execution_count": 21,
   "metadata": {},
   "outputs": [
    {
     "name": "stdout",
     "output_type": "stream",
     "text": [
      "p.square:9\n",
      "p.cube:64\n",
      "----------------------------------------\n",
      "p.square:25\n"
     ]
    }
   ],
   "source": [
    "## property 实现\n",
    "class Powers():\n",
    "    def __init__(self, square, cube):\n",
    "        self._square = square\n",
    "        self._cube = cube\n",
    "\n",
    "    def get_square(self):\n",
    "        return self._square ** 2\n",
    "\n",
    "    def set_square(self, value):\n",
    "        self._square = value\n",
    "\n",
    "    square = property(get_square, set_square)\n",
    "\n",
    "    def get_cube(self):\n",
    "        return self._cube ** 3\n",
    "\n",
    "    cube = property(get_cube)\n",
    "\n",
    "\n",
    "if __name__ == '__main__':\n",
    "    p = Powers(3, 4)\n",
    "    print(f\"p.square:{p.square}\")\n",
    "    print(f\"p.cube:{p.cube}\")\n",
    "    p.square = 5\n",
    "    print(\"-\" * 40)\n",
    "    print(f\"p.square:{p.square}\")"
   ]
  },
  {
   "cell_type": "code",
   "execution_count": null,
   "metadata": {},
   "outputs": [],
   "source": [
    "## 描述器实现\n",
    "\n",
    "import logging\n",
    "\n",
    "logging.basicConfig(level=logging.INFO)\n",
    "\n",
    "\n",
    "class Calculate(object):\n",
    "    def __init__(self, factor=None):\n",
    "        self.factor = factor\n",
    "\n",
    "    def __set_name__(self, owner, name):\n",
    "        self.public_name = name\n",
    "        self.private_name = '_' + name\n",
    "\n",
    "    def __get__(self, instance, owner):\n",
    "        # if self.public_name == 'square':\n",
    "        #     return getattr(instance, self.private_name) ** 2\n",
    "        #\n",
    "        # elif self.public_name == 'cube':\n",
    "        #\n",
    "        #     return getattr(instance, self.private_name) ** 3\n",
    "        # else:\n",
    "        #     raise AttributeError(self.public_name)\n",
    "\n",
    "        if self.factor:\n",
    "            return getattr(instance, self.private_name) ** 2\n",
    "        else:\n",
    "            raise AttributeError(self.factor)\n",
    "\n",
    "    def __set__(self, instance, value):\n",
    "        logging.info('Updating %r to %r', self.public_name, value)\n",
    "        setattr(instance, self.private_name, value)\n",
    "\n",
    "\n",
    "class Powers():\n",
    "    square = Calculate(2)\n",
    "    cube = Calculate(3)\n",
    "\n",
    "    def __init__(self, square, cube):\n",
    "        self.square = square\n",
    "        self.cube = cube\n",
    "\n",
    "\n",
    "if __name__ == '__main__':\n",
    "    p = Powers(3, 4)\n",
    "    print(f\"p.square:{p.square}\")\n",
    "    print(f\"p.cube:{p.cube}\")\n",
    "    p.square = 5\n",
    "    print(\"-\" * 40)\n",
    "    print(f\"p.square:{p.square}\")"
   ]
  },
  {
   "cell_type": "code",
   "execution_count": 43,
   "metadata": {},
   "outputs": [
    {
     "name": "stdout",
     "output_type": "stream",
     "text": [
      "p.square:9\n",
      "p.cube:64\n",
      "----------------------------------------\n",
      "p.square:25\n"
     ]
    }
   ],
   "source": [
    "## __getattr__ 实现\n",
    "class Powers():\n",
    "    def __init__(self, square, cube):\n",
    "        self._square = square\n",
    "        self._cube = cube\n",
    "\n",
    "    def __getattr__(self, item):\n",
    "        \"\"\"\n",
    "        拦截实例不存在的属性\n",
    "        :param item:\n",
    "        :return:\n",
    "        \"\"\"\n",
    "        if item == 'square':\n",
    "            return self._square ** 2\n",
    "        elif item == 'cube':\n",
    "            return self._cube ** 3\n",
    "        else:\n",
    "            raise TypeError(f'unknow attr: {item}')\n",
    "\n",
    "    def __setattr__(self, name, value):\n",
    "        if name == 'square':\n",
    "            self.__dict__['_square'] = value\n",
    "        elif name == 'cube':\n",
    "            self.__dict__['_cube'] = value\n",
    "\n",
    "        else:\n",
    "            self.__dict__[name] = value\n",
    "\n",
    "\n",
    "if __name__ == '__main__':\n",
    "    p = Powers(3, 4)\n",
    "    print(f\"p.square:{p.square}\")\n",
    "    print(f\"p.cube:{p.cube}\")\n",
    "    p.square = 5\n",
    "    print(\"-\" * 40)\n",
    "    print(f\"p.square:{p.square}\")"
   ]
  },
  {
   "cell_type": "code",
   "execution_count": 45,
   "metadata": {},
   "outputs": [
    {
     "name": "stdout",
     "output_type": "stream",
     "text": [
      "p.square:9\n",
      "p.cube:64\n",
      "----------------------------------------\n",
      "p.square:25\n",
      "{'_square': 5, '_cube': 4}\n"
     ]
    }
   ],
   "source": [
    "## __getattribute__ 实现\n",
    "class Powers():\n",
    "    def __init__(self, square, cube):\n",
    "        self._square = square\n",
    "        self._cube = cube\n",
    "\n",
    "    def __getattribute__(self, item):\n",
    "        \"\"\"\n",
    "        拦截实例所有有属性，包括不存在的属性\n",
    "        :param item:\n",
    "        :return:\n",
    "        \"\"\"\n",
    "        if item == 'square':\n",
    "            return object.__getattribute__(self, '_square') ** 2\n",
    "        elif item == 'cube':\n",
    "            return object.__getattribute__(self, '_cube') ** 3\n",
    "        else:\n",
    "            return object.__getattribute__(self, item)\n",
    "\n",
    "    def __setattr__(self, name, value):\n",
    "        if name == 'square':\n",
    "            self.__dict__['_square'] = value\n",
    "        elif name == 'cube':\n",
    "            self.__dict__['_cube'] = value\n",
    "\n",
    "        else:\n",
    "            self.__dict__[name] = value\n",
    "\n",
    "\n",
    "if __name__ == '__main__':\n",
    "    p = Powers(3, 4)\n",
    "    print(f\"p.square:{p.square}\")\n",
    "    print(f\"p.cube:{p.cube}\")\n",
    "    p.square = 5\n",
    "    print(\"-\" * 40)\n",
    "    print(f\"p.square:{p.square}\")\n",
    "    print(vars(p))"
   ]
  },
  {
   "cell_type": "code",
   "execution_count": 63,
   "outputs": [
    {
     "ename": "AttributeError",
     "evalue": "'Animal' object has no attribute 'my_slot'",
     "output_type": "error",
     "traceback": [
      "\u001B[0;31m---------------------------------------------------------------------------\u001B[0m",
      "\u001B[0;31mAttributeError\u001B[0m                            Traceback (most recent call last)",
      "Input \u001B[0;32mIn [63]\u001B[0m, in \u001B[0;36m<cell line: 22>\u001B[0;34m()\u001B[0m\n\u001B[1;32m     22\u001B[0m \u001B[38;5;28;01mif\u001B[39;00m \u001B[38;5;18m__name__\u001B[39m \u001B[38;5;241m==\u001B[39m \u001B[38;5;124m'\u001B[39m\u001B[38;5;124m__main__\u001B[39m\u001B[38;5;124m'\u001B[39m:\n\u001B[1;32m     23\u001B[0m     dog \u001B[38;5;241m=\u001B[39m Animal(\u001B[38;5;124m'\u001B[39m\u001B[38;5;124mdog\u001B[39m\u001B[38;5;124m'\u001B[39m,\u001B[38;5;124m'\u001B[39m\u001B[38;5;124mdingding\u001B[39m\u001B[38;5;124m'\u001B[39m)\n\u001B[0;32m---> 24\u001B[0m     \u001B[43mdog\u001B[49m\u001B[38;5;241;43m.\u001B[39;49m\u001B[43mmy_slot\u001B[49m \u001B[38;5;241m=\u001B[39m \u001B[38;5;124m'\u001B[39m\u001B[38;5;124mslot_test\u001B[39m\u001B[38;5;124m'\u001B[39m\n\u001B[1;32m     25\u001B[0m     \u001B[38;5;28mprint\u001B[39m(dog\u001B[38;5;241m.\u001B[39mmy_slot)\n",
      "\u001B[0;31mAttributeError\u001B[0m: 'Animal' object has no attribute 'my_slot'"
     ]
    }
   ],
   "source": [
    "class Animal(object):\n",
    "    __slots__ = ['kind', '_name']\n",
    "\n",
    "    def __init__(self, kind, name):\n",
    "        self.kind = kind\n",
    "        self._name = name\n",
    "\n",
    "    def __getattr__(self, item):\n",
    "        print(f'[__getattr__]items:{item}')\n",
    "\n",
    "        if item == 'name':\n",
    "            return self._name\n",
    "        raise AttributeError(item)\n",
    "\n",
    "    def __getattribute__(self, item):\n",
    "        # print(self.kind)\n",
    "        print(f'[__getattribute__]items:{item}')\n",
    "        return object.__getattribute__(self, item)\n",
    "\n",
    "    def __str__(self):\n",
    "        print()\n",
    "\n",
    "\n",
    "if __name__ == '__main__':\n",
    "    dog = Animal('dog', 'dingding')\n",
    "    dog.my_slot = 'slot_test'\n",
    "    print(dog.my_slot)\n"
   ],
   "metadata": {
    "collapsed": false
   }
  },
  {
   "cell_type": "code",
   "execution_count": 64,
   "outputs": [
    {
     "ename": "AttributeError",
     "evalue": "'ellipsis' object has no attribute 'strip'",
     "output_type": "error",
     "traceback": [
      "\u001B[0;31m---------------------------------------------------------------------------\u001B[0m",
      "\u001B[0;31mAttributeError\u001B[0m                            Traceback (most recent call last)",
      "Input \u001B[0;32mIn [64]\u001B[0m, in \u001B[0;36m<cell line: 7>\u001B[0;34m()\u001B[0m\n\u001B[1;32m      4\u001B[0m stripped_iter \u001B[38;5;241m=\u001B[39m (line\u001B[38;5;241m.\u001B[39mstrip() \u001B[38;5;28;01mfor\u001B[39;00m line \u001B[38;5;129;01min\u001B[39;00m line_list)\n\u001B[1;32m      6\u001B[0m \u001B[38;5;66;03m# List comprehension -- returns list\u001B[39;00m\n\u001B[0;32m----> 7\u001B[0m stripped_list \u001B[38;5;241m=\u001B[39m [line\u001B[38;5;241m.\u001B[39mstrip() \u001B[38;5;28;01mfor\u001B[39;00m line \u001B[38;5;129;01min\u001B[39;00m line_list]\n",
      "Input \u001B[0;32mIn [64]\u001B[0m, in \u001B[0;36m<listcomp>\u001B[0;34m(.0)\u001B[0m\n\u001B[1;32m      4\u001B[0m stripped_iter \u001B[38;5;241m=\u001B[39m (line\u001B[38;5;241m.\u001B[39mstrip() \u001B[38;5;28;01mfor\u001B[39;00m line \u001B[38;5;129;01min\u001B[39;00m line_list)\n\u001B[1;32m      6\u001B[0m \u001B[38;5;66;03m# List comprehension -- returns list\u001B[39;00m\n\u001B[0;32m----> 7\u001B[0m stripped_list \u001B[38;5;241m=\u001B[39m [\u001B[43mline\u001B[49m\u001B[38;5;241;43m.\u001B[39;49m\u001B[43mstrip\u001B[49m() \u001B[38;5;28;01mfor\u001B[39;00m line \u001B[38;5;129;01min\u001B[39;00m line_list]\n",
      "\u001B[0;31mAttributeError\u001B[0m: 'ellipsis' object has no attribute 'strip'"
     ]
    }
   ],
   "source": [
    "line_list = ['  line 1\\n', 'line 2  \\n', ...]\n",
    "\n",
    "# Generator expression -- returns iterator\n",
    "stripped_iter = (line.strip() for line in line_list)\n",
    "\n",
    "# List comprehension -- returns list\n",
    "stripped_list = [line.strip() for line in line_list]"
   ],
   "metadata": {
    "collapsed": false
   }
  },
  {
   "cell_type": "code",
   "execution_count": 5,
   "outputs": [
    {
     "name": "stdout",
     "output_type": "stream",
     "text": [
      "__getattr__:_ipython_canary_method_should_not_exist_\n",
      "__getattr__:_ipython_display_\n",
      "__getattr__:_ipython_canary_method_should_not_exist_\n",
      "__getattr__:_repr_mimebundle_\n",
      "__getattr__:_ipython_canary_method_should_not_exist_\n",
      "__getattr__:_repr_html_\n",
      "__getattr__:_ipython_canary_method_should_not_exist_\n",
      "__getattr__:_repr_markdown_\n",
      "__getattr__:_ipython_canary_method_should_not_exist_\n",
      "__getattr__:_repr_svg_\n",
      "__getattr__:_ipython_canary_method_should_not_exist_\n",
      "__getattr__:_repr_png_\n",
      "__getattr__:_ipython_canary_method_should_not_exist_\n",
      "__getattr__:_repr_pdf_\n",
      "__getattr__:_ipython_canary_method_should_not_exist_\n",
      "__getattr__:_repr_jpeg_\n",
      "__getattr__:_ipython_canary_method_should_not_exist_\n",
      "__getattr__:_repr_latex_\n",
      "__getattr__:_ipython_canary_method_should_not_exist_\n",
      "__getattr__:_repr_json_\n",
      "__getattr__:_ipython_canary_method_should_not_exist_\n",
      "__getattr__:_repr_javascript_\n"
     ]
    },
    {
     "data": {
      "text/plain": "<__main__.TestItem at 0x120fdc0d0>"
     },
     "execution_count": 5,
     "metadata": {},
     "output_type": "execute_result"
    }
   ],
   "source": [
    "class TestItem():\n",
    "    def __init__(self, mytest):\n",
    "        self.mytest = mytest\n",
    "\n",
    "    def __getattr__(self, item):\n",
    "        print(f\"__getattr__:{item}\")\n",
    "        return getattr(self.mytest, item)\n",
    "\n",
    "    def __getitem__(self, item):\n",
    "        print(f\"__getitem__:{item}\")\n",
    "        return self.mytest[item]\n",
    "\n",
    "    def __setitem__(self, key, value):\n",
    "        print(f\"__setitem__:{key}\")\n",
    "        self.mytest[key] = value\n",
    "\n",
    "\n",
    "t = TestItem(123123)\n",
    "t\n"
   ],
   "metadata": {
    "collapsed": false
   }
  },
  {
   "cell_type": "code",
   "execution_count": 6,
   "outputs": [
    {
     "name": "stdout",
     "output_type": "stream",
     "text": [
      "fibonacci((0,),{}) -> 0\n",
      "fibonacci((1,),{}) -> 1\n",
      "fibonacci((2,),{}) -> 1\n",
      "fibonacci((1,),{}) -> 1\n",
      "fibonacci((0,),{}) -> 0\n",
      "fibonacci((1,),{}) -> 1\n",
      "fibonacci((2,),{}) -> 1\n",
      "fibonacci((3,),{}) -> 2\n",
      "fibonacci((4,),{}) -> 3\n",
      "Help on function wrapper in module __main__:\n",
      "\n",
      "wrapper(*args, **kwargs)\n",
      "    # @wraps(func)\n",
      "\n",
      "<class 'function'>\n"
     ]
    }
   ],
   "source": [
    "from functools import wraps\n",
    "def trace(func):\n",
    "    # @wraps(func)\n",
    "    def wrapper(*args, **kwargs):\n",
    "        result = func(*args, **kwargs)\n",
    "        print(f'{func.__name__}({args!r},{kwargs!r}) -> {result!r}')\n",
    "        return result\n",
    "\n",
    "    return wrapper\n",
    "\n",
    "@trace\n",
    "def fibonacci(n):\n",
    "    \"\"\"test\"\"\"\n",
    "    if n in (0, 1):\n",
    "        return n\n",
    "    return (fibonacci(n - 2) + fibonacci(n - 1))\n",
    "\n",
    "fibonacci(4)\n",
    "help(fibonacci)\n",
    "print(type(fibonacci))"
   ],
   "metadata": {
    "collapsed": false
   }
  },
  {
   "cell_type": "code",
   "execution_count": null,
   "outputs": [],
   "source": [],
   "metadata": {
    "collapsed": false
   }
  }
 ],
 "metadata": {
  "kernelspec": {
   "display_name": "Python 3 (ipykernel)",
   "language": "python",
   "name": "python3"
  },
  "language_info": {
   "codemirror_mode": {
    "name": "ipython",
    "version": 3
   },
   "file_extension": ".py",
   "mimetype": "text/x-python",
   "name": "python",
   "nbconvert_exporter": "python",
   "pygments_lexer": "ipython3",
   "version": "3.8.9"
  }
 },
 "nbformat": 4,
 "nbformat_minor": 1
}
